{
  "nbformat": 4,
  "nbformat_minor": 0,
  "metadata": {
    "colab": {
      "provenance": [],
      "authorship_tag": "ABX9TyOj1XZfjjKz7fxBsLQULKMW"
    },
    "kernelspec": {
      "name": "python3",
      "display_name": "Python 3"
    },
    "language_info": {
      "name": "python"
    }
  },
  "cells": [
    {
      "cell_type": "markdown",
      "source": [
        "### **3. 평균 제곱 오차 (Mean Square Error)**\n",
        "- 최소 제곱법의 한계\n",
        ">- 여러 개의 입력변수 처리 불가\n",
        "\n",
        "- 평균 제곱 오차 (손실 함수)\n",
        ">- 임의의 직선을 긋고, 각 점과 직선 사이의 거리를 통해 오차 확인\n",
        ">- 오차 직선의 합이 작을수록 Good\n",
        ">- **오차 = 실제 값 - 예측 값**\n",
        ">- 전체 오차 합을 구하기 위해 각 오차 값을 제곱해야 함(마이너스 없도록)\n",
        ">- 평균 제곱 오차 = 원소의 총 개수로 오차의 합을 나눈 값\n",
        "\n",
        "- 평균 제곱 오차 공식\n",
        ">- $MSE = \\frac{1}{n} \\sum_{i=1}^n (y_i - \\hat{y_i})$"
      ],
      "metadata": {
        "id": "qZIRgaJM4bs0"
      }
    },
    {
      "cell_type": "code",
      "source": [
        "import numpy as np\n",
        "\n",
        "x = np.array([2, 4, 6, 8]) # 공부한 시간\n",
        "y = np.array([81, 93, 91, 97]) # 점수"
      ],
      "metadata": {
        "id": "A0RfdaTX_JKA"
      },
      "execution_count": null,
      "outputs": []
    },
    {
      "cell_type": "code",
      "source": [
        "# 임의의 직선을 위한 기울기 a와 y절편 b\n",
        "fake_a = 3\n",
        "fake_b = 76\n",
        "\n",
        "# y = ax + b에 fake_a, fake_b 대입\n",
        "def predict(x):\n",
        "  return fake_a * x + fake_b\n",
        "\n",
        "# 예측 값이 들어갈 빈 리스트\n",
        "predict_result = []"
      ],
      "metadata": {
        "id": "0R3a01Cx4eRS"
      },
      "execution_count": null,
      "outputs": []
    },
    {
      "cell_type": "code",
      "source": [
        "# x값 append해 predict_result 완성\n",
        "for i in range(len(x)):\n",
        "  predict_result.append(predict(x[i]))\n",
        "  print(\"공부시간 = %.f, 실제점수 = %.f, 예측점수 = %.f\" % (x[i], y[i], predict(x[i])))"
      ],
      "metadata": {
        "colab": {
          "base_uri": "https://localhost:8080/"
        },
        "id": "Sp--Dkz848xR",
        "outputId": "0c209cce-d0de-4e69-dadd-5e36ed5443a0"
      },
      "execution_count": null,
      "outputs": [
        {
          "output_type": "stream",
          "name": "stdout",
          "text": [
            "공부시간 = 2, 실제점수 = 81, 예측점수 = 82\n",
            "공부시간 = 4, 실제점수 = 93, 예측점수 = 88\n",
            "공부시간 = 6, 실제점수 = 91, 예측점수 = 94\n",
            "공부시간 = 8, 실제점수 = 97, 예측점수 = 100\n"
          ]
        }
      ]
    },
    {
      "cell_type": "code",
      "source": [
        "# 평균 제곱 오차 공식\n",
        "n = len(x)\n",
        "def mse(y, y_pred):\n",
        "  return (1/n) * sum((y - y_pred)**2)\n",
        "\n",
        "print(\"평균 제곱 오차 = \" + str(mse(y, predict_result)))\n",
        "print(\"평균 제곱 오차 =\", mse(y, predict_result))"
      ],
      "metadata": {
        "colab": {
          "base_uri": "https://localhost:8080/"
        },
        "id": "np_LFUc_6J3T",
        "outputId": "715cb79a-8132-4dab-b54a-786f95d29373"
      },
      "execution_count": null,
      "outputs": [
        {
          "output_type": "stream",
          "name": "stdout",
          "text": [
            "평균 제곱 오차 = 11.0\n",
            "평균 제곱 오차 = 11.0\n"
          ]
        }
      ]
    }
  ]
}