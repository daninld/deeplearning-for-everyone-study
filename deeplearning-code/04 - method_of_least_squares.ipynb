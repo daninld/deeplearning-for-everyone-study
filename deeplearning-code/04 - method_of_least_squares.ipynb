{
  "nbformat": 4,
  "nbformat_minor": 0,
  "metadata": {
    "colab": {
      "provenance": [],
      "authorship_tag": "ABX9TyMA84rJH2NThjHldpWoDLoo",
      "include_colab_link": true
    },
    "kernelspec": {
      "name": "python3",
      "display_name": "Python 3"
    },
    "language_info": {
      "name": "python"
    }
  },
  "cells": [
    {
      "cell_type": "markdown",
      "metadata": {
        "id": "view-in-github",
        "colab_type": "text"
      },
      "source": [
        "<a href=\"https://colab.research.google.com/github/daninld/deeplearning-for-everyone-study/blob/main/method_of_least_squares.ipynb\" target=\"_parent\"><img src=\"https://colab.research.google.com/assets/colab-badge.svg\" alt=\"Open In Colab\"/></a>"
      ]
    },
    {
      "cell_type": "markdown",
      "source": [
        "## **예측 모델의 기본 원리 - 4장**\n",
        "### **1. 선형 회귀의 정의**\n",
        "- 단순 선형 회귀 (Simple linear regression)\n",
        ">- 하나의 x값으로 y값을 설명 가능\n",
        "- 다중 선형 회귀 (Multiple linear regression)\n",
        ">- x값이 여러 개 필요\n",
        "\n",
        "\n"
      ],
      "metadata": {
        "id": "10fVzGTHlNwW"
      }
    },
    {
      "cell_type": "markdown",
      "source": [
        "### **2. 최소 제곱법 (Method of least squares)**\n",
        "- 예측을 위한 기울기(a)와 y절편(b) 구하기\n",
        "\n",
        "- $a = \\frac{(x - x의 평균)(y - y의 평균)의 합}{(x-x의 평균)^2의 합}$ \n",
        "\n",
        "- $b = y의 평균 - (x의 평균 * 기울기 a)$\n"
      ],
      "metadata": {
        "id": "XGjJ1R3Yw6fc"
      }
    },
    {
      "cell_type": "code",
      "source": [
        "import numpy as np"
      ],
      "metadata": {
        "id": "fUNYWkJYziyS"
      },
      "execution_count": 1,
      "outputs": []
    },
    {
      "cell_type": "code",
      "execution_count": 2,
      "metadata": {
        "id": "YgzB8arswlph"
      },
      "outputs": [],
      "source": [
        "x = np.array([2, 4, 6, 8]) # 공부한 시간\n",
        "y = np.array([81, 93, 91, 97]) # 점수"
      ]
    },
    {
      "cell_type": "code",
      "source": [
        "mx = np.mean(x) # 평균 구하기\n",
        "my = np.mean(y)\n",
        "\n",
        "print(\"x의 평균값 = \", mx)\n",
        "print(\"y의 평균값 = \", my)"
      ],
      "metadata": {
        "id": "r71SEV4IxnYa",
        "colab": {
          "base_uri": "https://localhost:8080/"
        },
        "outputId": "01ee54ca-d293-487f-c899-af0c5820bb73"
      },
      "execution_count": 3,
      "outputs": [
        {
          "output_type": "stream",
          "name": "stdout",
          "text": [
            "x의 평균값 =  5.0\n",
            "y의 평균값 =  90.5\n"
          ]
        }
      ]
    },
    {
      "cell_type": "code",
      "source": [
        "# 기울기 공식 분모\n",
        "divisor = sum([(i - mx) **2 for i in x])\n",
        "\n",
        "# 기울기 공식 분자\n",
        "def top(x, mx, y, my):\n",
        "  d = 0\n",
        "  for i in range(len(x)):\n",
        "    d += (x[i] - mx) * (y[i] - my) \n",
        "  return d\n",
        "\n",
        "dividend = top(x, mx, y, my)\n",
        "\n",
        "print(\"분모 = \", divisor)\n",
        "print(\"분자 = \", dividend)"
      ],
      "metadata": {
        "id": "TsODKDDSx0zv",
        "colab": {
          "base_uri": "https://localhost:8080/"
        },
        "outputId": "94bf9972-4a55-494c-a523-94c2bf4a7c73"
      },
      "execution_count": 4,
      "outputs": [
        {
          "output_type": "stream",
          "name": "stdout",
          "text": [
            "분모 =  20.0\n",
            "분자 =  46.0\n"
          ]
        }
      ]
    },
    {
      "cell_type": "code",
      "source": [
        "# 기울기 a 구하기\n",
        "a = dividend / divisor\n",
        "\n",
        "# y절편 b 구하기\n",
        "b = my - (mx*a)"
      ],
      "metadata": {
        "id": "iPFeJQ_-y0Ha"
      },
      "execution_count": 5,
      "outputs": []
    },
    {
      "cell_type": "code",
      "source": [
        "print(\"기울기 a =  \", a)\n",
        "print(\"y 절편 b =  \", b)"
      ],
      "metadata": {
        "colab": {
          "base_uri": "https://localhost:8080/"
        },
        "id": "COI4m8mPzOKL",
        "outputId": "7362c875-fdca-4d0b-e7f5-36ebf0dcf7a6"
      },
      "execution_count": 6,
      "outputs": [
        {
          "output_type": "stream",
          "name": "stdout",
          "text": [
            "기울기 a =   2.3\n",
            "y 절편 b =   79.0\n"
          ]
        }
      ]
    }
  ]
}
